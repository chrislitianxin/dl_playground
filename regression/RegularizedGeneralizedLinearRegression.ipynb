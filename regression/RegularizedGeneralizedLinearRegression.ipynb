{
 "cells": [
  {
   "cell_type": "code",
   "execution_count": 151,
   "metadata": {},
   "outputs": [],
   "source": [
    "import numpy as np\n",
    "import pandas as pd\n",
    "import matplotlib.pyplot as plt\n",
    "import glob\n",
    "import os\n",
    "import collections\n",
    "import itertools\n",
    "import time"
   ]
  },
  {
   "cell_type": "code",
   "execution_count": 152,
   "metadata": {},
   "outputs": [
    {
     "name": "stdout",
     "output_type": "stream",
     "text": [
      "X:  10 (19, 2)\n",
      "y:  10 (19,)\n"
     ]
    }
   ],
   "source": [
    "def load_data(path):\n",
    "    \"\"\"\n",
    "    load training and testing data \n",
    "    return X,Y\n",
    "    \"\"\"\n",
    "    path = 'dataset'\n",
    "    Xfiles = glob.glob(os.path.join(path,'fData*.csv'))\n",
    "    yfiles = glob.glob(os.path.join(path,'fLabels*.csv'))\n",
    "\n",
    "    X,y = [],[]\n",
    "\n",
    "    for f in Xfiles:\n",
    "        X.append(pd.read_csv(f))\n",
    "\n",
    "    for f in yfiles:\n",
    "        y.append(pd.read_csv(f).values.T[0]) \n",
    "    print('X: ',len(X),X[0].shape)\n",
    "    print('y: ',len(y),y[0].shape)\n",
    "    return X,y\n",
    "\n",
    "X,y = load_data('dataset')"
   ]
  },
  {
   "cell_type": "code",
   "execution_count": 192,
   "metadata": {},
   "outputs": [],
   "source": [
    "class GeneralizedLinearModel:\n",
    "    def __init__(self,d,lam=1):\n",
    "        self.d = d           # degree\n",
    "        self.lam = 1         # hardcoded lambda\n",
    "        self.K = None        # gram matrix\n",
    "        self.a = None        # a\n",
    "        self.mse = None      # mean squared err\n",
    "        self.runtime = None  # runtime\n",
    "        \n",
    "    def basis_function(self,x):\n",
    "        \"\"\"\n",
    "        compute the basis function \n",
    "        return basis for each point\n",
    "        \"\"\"\n",
    "        return [x[0]**j * x[1]**(i-j) for i in range(self.d+1) for j in range(i+1)]\n",
    "        \n",
    "    def train(self,X,y):\n",
    "        \"\"\"\n",
    "        train the model, and save calculated K, a to model\n",
    "        \"\"\"\n",
    "        start = time.time()\n",
    "        self.phi = np.transpose([self.basis_function(x) for i,x in X.iterrows()])\n",
    "        # k = phi.T phi, \n",
    "        # here actually phi is already transposed\n",
    "        self.K = np.matmul(np.transpose(self.phi),self.phi)\n",
    "        # a = (K + lam I)^-1 y\n",
    "        self.a = np.matmul(np.linalg.inv(self.K + self.lam * np.identity(self.K.shape[0])),y)\n",
    "        self.runtime = time.time()-start\n",
    "             \n",
    "    def predict(self,x_test):\n",
    "        \"\"\"\n",
    "        return a list of predictions\n",
    "        \"\"\"\n",
    "        predictions=[]\n",
    "        for idx,x in x_test.iterrows():\n",
    "            predictions.append(self.point_estimate(x))\n",
    "        return predictions\n",
    "        \n",
    "    def point_estimate(self,x):\n",
    "        phix = self.basis_function(x)\n",
    "        pred = np.matmul(self.a.T,np.matmul(self.phi.T,phix))\n",
    "        return pred\n",
    "    \n",
    "    def accuracy(self,y_pred,y):\n",
    "        self.mse = np.mean((y - y_pred)**2)\n",
    "        return self.mse\n",
    "    "
   ]
  },
  {
   "cell_type": "code",
   "execution_count": 193,
   "metadata": {},
   "outputs": [
    {
     "data": {
      "text/plain": [
       "76.28520249071622"
      ]
     },
     "execution_count": 193,
     "metadata": {},
     "output_type": "execute_result"
    }
   ],
   "source": [
    "glm = GeneralizedLinearModel(d=4)\n",
    "glm.train(X[0],y[0])\n",
    "predictions = glm.predict(X[1])\n",
    "glm.accuracy(predictions,y[1])"
   ]
  },
  {
   "cell_type": "code",
   "execution_count": 194,
   "metadata": {},
   "outputs": [],
   "source": [
    "degree = [1,2,3,4]\n",
    "err = []\n",
    "rt = []\n",
    "\n",
    "def k_fold_cross_validate(k):\n",
    "    \"\"\"\n",
    "    k fold cross validation\n",
    "    returns a list of tuples (k, accuracy)\n",
    "    \"\"\"\n",
    "    for d in degree:\n",
    "        total_mse = 0.0\n",
    "        total_runtime = 0.0\n",
    "        for i in range(k): \n",
    "            # split train_test\n",
    "            X_train = pd.DataFrame(np.vstack([train for idx,train in enumerate(X) if idx != i]))\n",
    "            X_test = X[i]\n",
    "            y_train = np.hstack([train for idx,train in enumerate(y) if idx != i])\n",
    "            y_test = y[i]\n",
    "            \n",
    "            glm = GeneralizedLinearModel(d=d)\n",
    "            glm.train(X_train,y_train)\n",
    "            y_pred = glm.predict(X_test)\n",
    "            mse = glm.accuracy(y_pred,y_test)\n",
    "            total_mse += mse\n",
    "            total_runtime += glm.runtime\n",
    "        avg_mse = total_mse/k\n",
    "        err.append(avg_mse)\n",
    "        avg_runtime = round(total_runtime/k,3)\n",
    "        rt.append(avg_runtime)"
   ]
  },
  {
   "cell_type": "code",
   "execution_count": 195,
   "metadata": {},
   "outputs": [
    {
     "name": "stdout",
     "output_type": "stream",
     "text": [
      "Err:  [4.434032006535476, 4.545922352121751, 4.615092501105584, 4.9204523588439155]\n",
      "RT:  [0.032, 0.057, 0.109, 0.111]\n"
     ]
    }
   ],
   "source": [
    "k_fold_cross_validate(10)\n",
    "print('Err: ',err)\n",
    "print('RT: ',rt)"
   ]
  },
  {
   "cell_type": "code",
   "execution_count": 191,
   "metadata": {},
   "outputs": [
    {
     "data": {
      "image/png": "[encoded data removed]",
      "text/plain": [
       "<matplotlib.figure.Figure at 0x112e5b898>"
      ]
     },
     "metadata": {},
     "output_type": "display_data"
    }
   ],
   "source": [
    "plt.plot(degree,err,'-o')\n",
    "plt.xlabel('basis function degree')\n",
    "plt.ylabel('average mean squared error')\n",
    "plt.show()"
   ]
  },
  {
   "cell_type": "code",
   "execution_count": 158,
   "metadata": {},
   "outputs": [
    {
     "data": {
      "image/png": "[encoded data removed]",
      "text/plain": [
       "<matplotlib.figure.Figure at 0x1115093c8>"
      ]
     },
     "metadata": {},
     "output_type": "display_data"
    }
   ],
   "source": [
    "plt.plot(degree,rt,'-o')\n",
    "plt.xlabel('basis function degree')\n",
    "plt.ylabel('average runtime')\n",
    "plt.show()"
   ]
  },
  {
   "cell_type": "code",
   "execution_count": null,
   "metadata": {},
   "outputs": [],
   "source": []
  },
  {
   "cell_type": "code",
   "execution_count": null,
   "metadata": {},
   "outputs": [],
   "source": []
  },
  {
   "cell_type": "code",
   "execution_count": null,
   "metadata": {},
   "outputs": [],
   "source": []
  }
 ],
 "metadata": {
  "kernelspec": {
   "display_name": "Python 3",
   "language": "python",
   "name": "python3"
  },
  "language_info": {
   "codemirror_mode": {
    "name": "ipython",
    "version": 3
   },
   "file_extension": ".py",
   "mimetype": "text/x-python",
   "name": "python",
   "nbconvert_exporter": "python",
   "pygments_lexer": "ipython3",
   "version": "3.6.4"
  }
 },
 "nbformat": 4,
 "nbformat_minor": 2
}
