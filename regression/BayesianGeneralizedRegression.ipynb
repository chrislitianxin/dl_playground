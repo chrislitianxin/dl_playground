{
 "cells": [
  {
   "cell_type": "code",
   "execution_count": 154,
   "metadata": {},
   "outputs": [],
   "source": [
    "import numpy as np\n",
    "import pandas as pd\n",
    "import matplotlib.pyplot as plt\n",
    "import glob\n",
    "import os\n",
    "import collections\n",
    "import itertools\n",
    "import time"
   ]
  },
  {
   "cell_type": "code",
   "execution_count": 155,
   "metadata": {},
   "outputs": [
    {
     "name": "stdout",
     "output_type": "stream",
     "text": [
      "X:  10 (19, 2)\n",
      "y:  10 (19,)\n"
     ]
    }
   ],
   "source": [
    "def load_data(path):\n",
    "    \"\"\"\n",
    "    load training and testing data \n",
    "    return X,Y\n",
    "    \"\"\"\n",
    "    path = 'dataset'\n",
    "    Xfiles = glob.glob(os.path.join(path,'fData*.csv'))\n",
    "    yfiles = glob.glob(os.path.join(path,'fLabels*.csv'))\n",
    "\n",
    "    X,y = [],[]\n",
    "\n",
    "    for f in Xfiles:\n",
    "        X.append(pd.read_csv(f))\n",
    "\n",
    "    for f in yfiles:\n",
    "        y.append(pd.read_csv(f).values.T[0]) \n",
    "    print('X: ',len(X),X[0].shape)\n",
    "    print('y: ',len(y),y[0].shape)\n",
    "    return X,y\n",
    "\n",
    "X,y = load_data('dataset')"
   ]
  },
  {
   "cell_type": "code",
   "execution_count": 156,
   "metadata": {},
   "outputs": [],
   "source": [
    "class BayesianGeneralizedRegression:\n",
    "    def __init__(self,d,lam=1):\n",
    "        self.d = d           # degree\n",
    "        self.lam = 1         # hardcoded lambda\n",
    "        self.K = None        # gram matrix\n",
    "        self.a = None        # a\n",
    "        self.a_ = None       # a inverse\n",
    "        self.mean = 0        # prior\n",
    "        self.var = 1         # prior\n",
    "        self.mse = None      # mean squared err\n",
    "        self.runtime = None  # runtime\n",
    "        \n",
    "    def basis_function(self,x):\n",
    "        \"\"\"\n",
    "        compute the basis function \n",
    "        return basis for each point\n",
    "        \"\"\"\n",
    "        return [x[0]**j * x[1]**(i-j) for i in range(self.d+1) for j in range(i+1)]\n",
    "        \n",
    "    def train(self,X,y):\n",
    "        \"\"\"\n",
    "        train the model, save the parameters\n",
    "        \"\"\"\n",
    "        start = time.time()\n",
    "        self.y = y\n",
    "        self.phi = np.transpose([self.basis_function(x) for i,x in X.iterrows()])\n",
    "        self.a = (1/self.var**2)*np.matmul(self.phi,np.transpose(self.phi))+np.linalg.inv(np.identity((self.d+2)*(self.d+1)//2))\n",
    "        self.a_ = np.linalg.inv(self.a)\n",
    "        self.runtime = time.time()-start      \n",
    "        \n",
    "    def predict(self,x1):\n",
    "        \"\"\"\n",
    "        return a list of predictions\n",
    "        \"\"\"\n",
    "        phiy = np.matmul(self.phi, self.y)\n",
    "        phix = np.transpose([self.basis_function(x) for i,x in x1.iterrows()])\n",
    "        predictions = np.matmul(np.array(phix).T * (1/self.var ** 2), np.matmul(self.a, phiy))\n",
    "        return predictions\n",
    "\n",
    "    \n",
    "    def accuracy(self,y_pred,y):\n",
    "        self.mse = ((y - y_pred)**2).mean(axis = 0)\n",
    "        return self.mse\n",
    "    "
   ]
  },
  {
   "cell_type": "code",
   "execution_count": 157,
   "metadata": {},
   "outputs": [],
   "source": [
    "degree = [1,2,3,4]\n",
    "err = []\n",
    "rt = []\n",
    "\n",
    "def k_fold_cross_validate(k):\n",
    "    \"\"\"\n",
    "    k fold cross validation\n",
    "    returns a list of tuples (k, accuracy)\n",
    "    \"\"\"\n",
    "    for d in degree:\n",
    "        total_mse = 0.0\n",
    "        total_runtime = 0.0\n",
    "        for i in range(k): \n",
    "            # split train_test\n",
    "            X_train = pd.DataFrame(np.vstack([train for idx,train in enumerate(X) if idx != i]))\n",
    "            X_test = X[i]\n",
    "            y_train = np.hstack([train for idx,train in enumerate(y) if idx != i])\n",
    "            y_test = y[i]\n",
    "            \n",
    "            bgr = BayesianGeneralizedRegression(d=d)\n",
    "            bgr.train(X_train,y_train)\n",
    "            y_pred = bgr.predict(X_test)\n",
    "            mse = bgr.accuracy(y_pred,y_test)\n",
    "            total_mse += mse\n",
    "            total_runtime += bgr.runtime\n",
    "        avg_mse = total_mse/k\n",
    "        err.append(avg_mse)\n",
    "        avg_runtime = round(total_runtime/k,3)\n",
    "        rt.append(avg_runtime)"
   ]
  },
  {
   "cell_type": "code",
   "execution_count": 158,
   "metadata": {},
   "outputs": [
    {
     "name": "stdout",
     "output_type": "stream",
     "text": [
      "Err:  [1.2395280459307742e+17, 1.686446755751934e+26, 2.8533095322368633e+35, 5.614172870369746e+44]\n",
      "RT:  [0.031, 0.052, 0.073, 0.104]\n"
     ]
    }
   ],
   "source": [
    "k_fold_cross_validate(10)\n",
    "print('Err: ',err)\n",
    "print('RT: ',rt)"
   ]
  },
  {
   "cell_type": "code",
   "execution_count": 159,
   "metadata": {},
   "outputs": [
    {
     "data": {
      "image/png": "[encoded data removed]",
      "text/plain": [
       "<matplotlib.figure.Figure at 0x1114509e8>"
      ]
     },
     "metadata": {},
     "output_type": "display_data"
    }
   ],
   "source": [
    "plt.plot(degree,err,'-o')\n",
    "plt.xlabel('basis function degree')\n",
    "plt.ylabel('average mean squared error')\n",
    "plt.show()"
   ]
  },
  {
   "cell_type": "code",
   "execution_count": 160,
   "metadata": {},
   "outputs": [
    {
     "data": {
      "image/png": "[encoded data removed]",
      "text/plain": [
       "<matplotlib.figure.Figure at 0x1115446a0>"
      ]
     },
     "metadata": {},
     "output_type": "display_data"
    }
   ],
   "source": [
    "plt.plot(degree,rt,'-o')\n",
    "plt.xlabel('basis function degree')\n",
    "plt.ylabel('average runtime')\n",
    "plt.show()"
   ]
  },
  {
   "cell_type": "code",
   "execution_count": null,
   "metadata": {},
   "outputs": [],
   "source": []
  },
  {
   "cell_type": "code",
   "execution_count": null,
   "metadata": {},
   "outputs": [],
   "source": []
  },
  {
   "cell_type": "code",
   "execution_count": null,
   "metadata": {},
   "outputs": [],
   "source": []
  }
 ],
 "metadata": {
  "kernelspec": {
   "display_name": "Python 3",
   "language": "python",
   "name": "python3"
  },
  "language_info": {
   "codemirror_mode": {
    "name": "ipython",
    "version": 3
   },
   "file_extension": ".py",
   "mimetype": "text/x-python",
   "name": "python",
   "nbconvert_exporter": "python",
   "pygments_lexer": "ipython3",
   "version": "3.6.4"
  }
 },
 "nbformat": 4,
 "nbformat_minor": 2
}
