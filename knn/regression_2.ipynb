{
 "cells": [
  {
   "cell_type": "code",
   "execution_count": 43,
   "metadata": {},
   "outputs": [],
   "source": [
    "import numpy as np \n",
    "import pandas as pd\n",
    "import glob \n",
    "import os\n",
    "import matplotlib.pyplot as plt\n",
    "\n",
    "path = 'boston-housing-dataset'\n",
    "X_test = pd.read_csv(os.path.join(path,'housing_X_test.csv'))\n",
    "X_train = pd.read_csv(os.path.join(path,'housing_X_train.csv'))\n",
    "y_train = pd.read_csv(os.path.join(path,'housing_y_train.csv'))\n",
    "y_test = pd.read_csv(os.path.join(path,'housing_y_test.csv'))"
   ]
  },
  {
   "cell_type": "code",
   "execution_count": 44,
   "metadata": {},
   "outputs": [],
   "source": [
    "# MSE\n",
    "def MSE(y,y_pred):\n",
    "    return np.mean((y-y_pred)**2)\n",
    "\n",
    "class RidgeRegression(object):\n",
    "    def __init__(self, λ=0.1):\n",
    "        self.λ = λ\n",
    "\n",
    "    def fit(self, X, y):\n",
    "        # closed form solution \n",
    "        self.w = np.linalg.inv(X.T.dot(X) + self.λ * np.eye(X.shape[1])).dot(X.T).dot(y)\n",
    "\n",
    "    def predict(self, X):\n",
    "        return X.dot(self.w)"
   ]
  },
  {
   "cell_type": "code",
   "execution_count": 45,
   "metadata": {},
   "outputs": [
    {
     "data": {
      "text/html": [
       "<div>\n",
       "<style scoped>\n",
       "    .dataframe tbody tr th:only-of-type {\n",
       "        vertical-align: middle;\n",
       "    }\n",
       "\n",
       "    .dataframe tbody tr th {\n",
       "        vertical-align: top;\n",
       "    }\n",
       "\n",
       "    .dataframe thead th {\n",
       "        text-align: right;\n",
       "    }\n",
       "</style>\n",
       "<table border=\"1\" class=\"dataframe\">\n",
       "  <thead>\n",
       "    <tr style=\"text-align: right;\">\n",
       "      <th></th>\n",
       "      <th>1s</th>\n",
       "      <th>0.00632</th>\n",
       "      <th>18</th>\n",
       "      <th>2.31</th>\n",
       "      <th>0</th>\n",
       "      <th>0.538</th>\n",
       "      <th>6.575</th>\n",
       "      <th>65.2</th>\n",
       "      <th>4.09</th>\n",
       "      <th>1</th>\n",
       "      <th>296</th>\n",
       "      <th>15.3</th>\n",
       "      <th>396.9</th>\n",
       "      <th>4.98</th>\n",
       "    </tr>\n",
       "  </thead>\n",
       "  <tbody>\n",
       "    <tr>\n",
       "      <th>count</th>\n",
       "      <td>305.0</td>\n",
       "      <td>305.000000</td>\n",
       "      <td>305.000000</td>\n",
       "      <td>305.000000</td>\n",
       "      <td>305.000000</td>\n",
       "      <td>305.000000</td>\n",
       "      <td>305.000000</td>\n",
       "      <td>305.000000</td>\n",
       "      <td>305.000000</td>\n",
       "      <td>305.000000</td>\n",
       "      <td>305.000000</td>\n",
       "      <td>305.000000</td>\n",
       "      <td>305.000000</td>\n",
       "      <td>305.000000</td>\n",
       "    </tr>\n",
       "    <tr>\n",
       "      <th>mean</th>\n",
       "      <td>1.0</td>\n",
       "      <td>0.429540</td>\n",
       "      <td>15.855738</td>\n",
       "      <td>8.802098</td>\n",
       "      <td>0.088525</td>\n",
       "      <td>0.512803</td>\n",
       "      <td>6.427262</td>\n",
       "      <td>62.284918</td>\n",
       "      <td>4.299372</td>\n",
       "      <td>4.540984</td>\n",
       "      <td>311.822951</td>\n",
       "      <td>17.577377</td>\n",
       "      <td>378.896295</td>\n",
       "      <td>10.659770</td>\n",
       "    </tr>\n",
       "    <tr>\n",
       "      <th>std</th>\n",
       "      <td>0.0</td>\n",
       "      <td>0.666485</td>\n",
       "      <td>26.043906</td>\n",
       "      <td>6.355356</td>\n",
       "      <td>0.284523</td>\n",
       "      <td>0.108503</td>\n",
       "      <td>0.703068</td>\n",
       "      <td>29.192208</td>\n",
       "      <td>1.978917</td>\n",
       "      <td>1.623975</td>\n",
       "      <td>68.987567</td>\n",
       "      <td>2.274714</td>\n",
       "      <td>42.997783</td>\n",
       "      <td>6.169608</td>\n",
       "    </tr>\n",
       "    <tr>\n",
       "      <th>min</th>\n",
       "      <td>1.0</td>\n",
       "      <td>0.009060</td>\n",
       "      <td>0.000000</td>\n",
       "      <td>0.460000</td>\n",
       "      <td>0.000000</td>\n",
       "      <td>0.385000</td>\n",
       "      <td>4.903000</td>\n",
       "      <td>2.900000</td>\n",
       "      <td>1.321600</td>\n",
       "      <td>1.000000</td>\n",
       "      <td>188.000000</td>\n",
       "      <td>12.600000</td>\n",
       "      <td>70.800000</td>\n",
       "      <td>1.730000</td>\n",
       "    </tr>\n",
       "    <tr>\n",
       "      <th>25%</th>\n",
       "      <td>1.0</td>\n",
       "      <td>0.066640</td>\n",
       "      <td>0.000000</td>\n",
       "      <td>4.050000</td>\n",
       "      <td>0.000000</td>\n",
       "      <td>0.437000</td>\n",
       "      <td>5.942000</td>\n",
       "      <td>36.600000</td>\n",
       "      <td>2.646300</td>\n",
       "      <td>4.000000</td>\n",
       "      <td>264.000000</td>\n",
       "      <td>15.900000</td>\n",
       "      <td>382.000000</td>\n",
       "      <td>6.050000</td>\n",
       "    </tr>\n",
       "    <tr>\n",
       "      <th>50%</th>\n",
       "      <td>1.0</td>\n",
       "      <td>0.136420</td>\n",
       "      <td>0.000000</td>\n",
       "      <td>6.410000</td>\n",
       "      <td>0.000000</td>\n",
       "      <td>0.489000</td>\n",
       "      <td>6.273000</td>\n",
       "      <td>66.200000</td>\n",
       "      <td>3.945400</td>\n",
       "      <td>5.000000</td>\n",
       "      <td>307.000000</td>\n",
       "      <td>17.800000</td>\n",
       "      <td>392.200000</td>\n",
       "      <td>9.500000</td>\n",
       "    </tr>\n",
       "    <tr>\n",
       "      <th>75%</th>\n",
       "      <td>1.0</td>\n",
       "      <td>0.520140</td>\n",
       "      <td>22.000000</td>\n",
       "      <td>10.590000</td>\n",
       "      <td>0.000000</td>\n",
       "      <td>0.547000</td>\n",
       "      <td>6.800000</td>\n",
       "      <td>91.200000</td>\n",
       "      <td>5.720900</td>\n",
       "      <td>5.000000</td>\n",
       "      <td>384.000000</td>\n",
       "      <td>19.100000</td>\n",
       "      <td>395.620000</td>\n",
       "      <td>14.090000</td>\n",
       "    </tr>\n",
       "    <tr>\n",
       "      <th>max</th>\n",
       "      <td>1.0</td>\n",
       "      <td>4.097400</td>\n",
       "      <td>100.000000</td>\n",
       "      <td>25.650000</td>\n",
       "      <td>1.000000</td>\n",
       "      <td>0.871000</td>\n",
       "      <td>8.725000</td>\n",
       "      <td>100.000000</td>\n",
       "      <td>9.222900</td>\n",
       "      <td>8.000000</td>\n",
       "      <td>469.000000</td>\n",
       "      <td>21.200000</td>\n",
       "      <td>396.900000</td>\n",
       "      <td>34.410000</td>\n",
       "    </tr>\n",
       "  </tbody>\n",
       "</table>\n",
       "</div>"
      ],
      "text/plain": [
       "          1s     0.00632          18        2.31           0       0.538  \\\n",
       "count  305.0  305.000000  305.000000  305.000000  305.000000  305.000000   \n",
       "mean     1.0    0.429540   15.855738    8.802098    0.088525    0.512803   \n",
       "std      0.0    0.666485   26.043906    6.355356    0.284523    0.108503   \n",
       "min      1.0    0.009060    0.000000    0.460000    0.000000    0.385000   \n",
       "25%      1.0    0.066640    0.000000    4.050000    0.000000    0.437000   \n",
       "50%      1.0    0.136420    0.000000    6.410000    0.000000    0.489000   \n",
       "75%      1.0    0.520140   22.000000   10.590000    0.000000    0.547000   \n",
       "max      1.0    4.097400  100.000000   25.650000    1.000000    0.871000   \n",
       "\n",
       "            6.575        65.2        4.09           1         296        15.3  \\\n",
       "count  305.000000  305.000000  305.000000  305.000000  305.000000  305.000000   \n",
       "mean     6.427262   62.284918    4.299372    4.540984  311.822951   17.577377   \n",
       "std      0.703068   29.192208    1.978917    1.623975   68.987567    2.274714   \n",
       "min      4.903000    2.900000    1.321600    1.000000  188.000000   12.600000   \n",
       "25%      5.942000   36.600000    2.646300    4.000000  264.000000   15.900000   \n",
       "50%      6.273000   66.200000    3.945400    5.000000  307.000000   17.800000   \n",
       "75%      6.800000   91.200000    5.720900    5.000000  384.000000   19.100000   \n",
       "max      8.725000  100.000000    9.222900    8.000000  469.000000   21.200000   \n",
       "\n",
       "            396.9        4.98  \n",
       "count  305.000000  305.000000  \n",
       "mean   378.896295   10.659770  \n",
       "std     42.997783    6.169608  \n",
       "min     70.800000    1.730000  \n",
       "25%    382.000000    6.050000  \n",
       "50%    392.200000    9.500000  \n",
       "75%    395.620000   14.090000  \n",
       "max    396.900000   34.410000  "
      ]
     },
     "execution_count": 45,
     "metadata": {},
     "output_type": "execute_result"
    }
   ],
   "source": [
    "X_train.insert(0,'1s',1)\n",
    "X_test.insert(0,'1s',1)\n",
    "X_train.describe()"
   ]
  },
  {
   "cell_type": "code",
   "execution_count": 46,
   "metadata": {},
   "outputs": [
    {
     "name": "stdout",
     "output_type": "stream",
     "text": [
      "(305, 14) (305, 1)\n",
      "(199, 14) (199, 1)\n"
     ]
    }
   ],
   "source": [
    "print(X_train.shape,y_train.shape)\n",
    "print(X_test.shape,y_test.shape)"
   ]
  },
  {
   "cell_type": "code",
   "execution_count": 47,
   "metadata": {},
   "outputs": [
    {
     "data": {
      "text/plain": [
       "106.86043538371861"
      ]
     },
     "execution_count": 47,
     "metadata": {},
     "output_type": "execute_result"
    }
   ],
   "source": [
    "#test set\n",
    "rr = RidgeRegression(λ=20)\n",
    "#rr = Ridge(11)\n",
    "rr.fit(X_train,y_train)\n",
    "pred = rr.predict(X_test)\n",
    "MSE(pred.values, y_test.values)"
   ]
  },
  {
   "cell_type": "code",
   "execution_count": 48,
   "metadata": {},
   "outputs": [],
   "source": [
    "# cross-validated init \n",
    "λ_i = [i*0.01 for i in range(1,101)]\n",
    "λ_accu = {}\n",
    "\n",
    "# CV .....\n",
    "CV = []\n",
    "for i in range(0,10):\n",
    "    CV.append([x for x in range(i*30,i*30+30)])\n",
    "for i in range(300,305):\n",
    "    CV[9].append(i)"
   ]
  },
  {
   "cell_type": "code",
   "execution_count": 49,
   "metadata": {},
   "outputs": [],
   "source": [
    "# cross validate result\n",
    "for λ in λ_i:\n",
    "    accuracy = []\n",
    "    for val_set in range(0,10):\n",
    "        validation = X_train.index.isin(CV[val_set])\n",
    "        X = X_train.iloc[~validation]\n",
    "        y = y_train.iloc[~validation]\n",
    "        X_t = X_train.iloc[validation]\n",
    "        y_t = y_train.iloc[validation]\n",
    "\n",
    "        rr = RidgeRegression(λ)\n",
    "        rr.fit(X,y)\n",
    "        y_pred = rr.predict(X_t)\n",
    "\n",
    "        y_err = MSE(y_pred.values,y_t.values)\n",
    "        accuracy.append(y_err)\n",
    "    λ_accu.setdefault(λ,np.mean(accuracy))\n",
    "    "
   ]
  },
  {
   "cell_type": "code",
   "execution_count": 50,
   "metadata": {},
   "outputs": [
    {
     "data": {
      "image/png": "[encoded data removed]",
      "text/plain": [
       "<matplotlib.figure.Figure at 0x1126dec50>"
      ]
     },
     "metadata": {},
     "output_type": "display_data"
    }
   ],
   "source": [
    "plt.figure(figsize=(10,7))\n",
    "plt.plot(λ_accu.keys(), λ_accu.values())\n",
    "plt.title('Cross-validation')\n",
    "plt.xlabel('λ')\n",
    "plt.ylabel('Test Error')\n",
    "plt.show()"
   ]
  },
  {
   "cell_type": "code",
   "execution_count": 53,
   "metadata": {},
   "outputs": [
    {
     "name": "stdout",
     "output_type": "stream",
     "text": [
      "Best Lambda:  0.87\n",
      "Test Error:  184.37398419435937\n"
     ]
    }
   ],
   "source": [
    "best = min(λ_accu, key=λ_accu.get)\n",
    "print('Best Lambda: ',best)\n",
    "rr = RidgeRegression(best)\n",
    "rr.fit(X_train,y_train)\n",
    "y_pred = rr.predict(X_test)\n",
    "y_err = MSE(y_pred.T.values,y_test.T.values)\n",
    "print('Test Error: ',y_err)"
   ]
  },
  {
   "cell_type": "code",
   "execution_count": null,
   "metadata": {},
   "outputs": [],
   "source": []
  },
  {
   "cell_type": "code",
   "execution_count": null,
   "metadata": {},
   "outputs": [],
   "source": []
  }
 ],
 "metadata": {
  "kernelspec": {
   "display_name": "Python 3",
   "language": "python",
   "name": "python3"
  },
  "language_info": {
   "codemirror_mode": {
    "name": "ipython",
    "version": 3
   },
   "file_extension": ".py",
   "mimetype": "text/x-python",
   "name": "python",
   "nbconvert_exporter": "python",
   "pygments_lexer": "ipython3",
   "version": "3.7.0"
  }
 },
 "nbformat": 4,
 "nbformat_minor": 2
}
