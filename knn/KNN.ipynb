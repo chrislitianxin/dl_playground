{
 "cells": [
  {
   "cell_type": "code",
   "execution_count": 5,
   "metadata": {},
   "outputs": [],
   "source": [
    "import numpy as np \n",
    "import pandas as pd\n",
    "import glob \n",
    "import os\n",
    "import matplotlib.pyplot as plt\n",
    "from scikit-learn import StandardScaler\n",
    "\n",
    "path = 'knn-dataset'\n",
    "Xfiles = glob.glob(os.path.join(path,'data*.csv'))\n",
    "yfiles = glob.glob(os.path.join(path,'labels*.csv'))\n",
    "\n",
    "X,y ={},{}\n",
    "\n",
    "for f in Xfiles:\n",
    "    X[f[12:18].replace('.','')] = pd.read_csv(f)\n",
    "    \n",
    "for f in yfiles:\n",
    "    y[f[12:20].replace('.','')] = pd.read_csv(f).values.T[0]\n"
   ]
  },
  {
   "cell_type": "code",
   "execution_count": 6,
   "metadata": {},
   "outputs": [
    {
     "name": "stdout",
     "output_type": "stream",
     "text": [
      "length:  10 10\n"
     ]
    }
   ],
   "source": [
    "print('length: ',len(X), len(y))"
   ]
  },
  {
   "cell_type": "code",
   "execution_count": 8,
   "metadata": {},
   "outputs": [
    {
     "name": "stdout",
     "output_type": "stream",
     "text": [
      "(110, 64) (110,)\n"
     ]
    }
   ],
   "source": [
    "print(X['data1'].shape, y['labels1'].shape)"
   ]
  },
  {
   "cell_type": "code",
   "execution_count": 35,
   "metadata": {},
   "outputs": [],
   "source": [
    "class KNN(object):\n",
    "    def __init__(self,X,y):\n",
    "        \"\"\"init training data\"\"\"\n",
    "        self.X_train = X\n",
    "        self.y_train = y    \n",
    "        #print(X.shape,y.shape)\n",
    "        \n",
    "    def dists(self, X):\n",
    "        \"\"\"compute distance matrix between test and train dataset\"\"\"\n",
    "        dists = np.zeros((X.shape[0], self.X_train.shape[0])) \n",
    "        \"\"\"\n",
    "        for i in range(X.shape[0]):\n",
    "            for j in range(self.X_train.shape[0]):\n",
    "                dists[i,j] = np.sqrt(np.sum((X[i]-self.X_train[j])**2))\n",
    "        \"\"\" \n",
    "        dists = np.sqrt(np.sum(X**2,axis =1, keepdims=True) + np.sum(self.X_train**2,axis =1, keepdims=True).T - 2*np.dot(X,self.X_train.T))\n",
    "        return dists\n",
    "    \n",
    "    def predict_labels(self, dists, k):\n",
    "        \"\"\"pick the k nearest neigbour\"\"\"\n",
    "        y_pred = np.zeros(dists.shape[0])\n",
    "        for i in range(dists.shape[0]):\n",
    "            closest_y = []\n",
    "            closest_y = self.y_train[np.argsort(dists[i,:],axis=0)][:k]\n",
    "            #print(np.argmax(np.bincount(closest_y)))\n",
    "            y_pred[i] = np.argmax(np.bincount(closest_y))\n",
    "        return y_pred"
   ]
  },
  {
   "cell_type": "code",
   "execution_count": 36,
   "metadata": {},
   "outputs": [
    {
     "name": "stdout",
     "output_type": "stream",
     "text": [
      "(110, 440)\n",
      "accuracy:  0.8090909090909089\n"
     ]
    }
   ],
   "source": [
    "knn = KNN(np.vstack([X['data1'],X['data3'],X['data4'],X['data5']]),np.hstack([y['labels1'],y['labels3'],y['labels4'],y['labels5']]))\n",
    "dists = knn.dists(X['data2'].values)\n",
    "print(dists.shape)\n",
    "pred = knn.predict_labels(dists,20)\n",
    "test_result = (pred == y['labels2'])\n",
    "print('accuracy: ', np.sum(test_result/pred.shape[0]))"
   ]
  },
  {
   "cell_type": "code",
   "execution_count": 65,
   "metadata": {},
   "outputs": [
    {
     "name": "stdout",
     "output_type": "stream",
     "text": [
      "k =  1  - accuracy:  0.7436363636363635\n",
      "k =  3  - accuracy:  0.7872727272727272\n",
      "k =  5  - accuracy:  0.7918181818181818\n",
      "k =  7  - accuracy:  0.8036363636363635\n",
      "k =  9  - accuracy:  0.7936363636363637\n",
      "k =  11  - accuracy:  0.8027272727272727\n",
      "k =  13  - accuracy:  0.7954545454545456\n",
      "k =  15  - accuracy:  0.7972727272727272\n",
      "k =  17  - accuracy:  0.7972727272727272\n",
      "k =  19  - accuracy:  0.8081818181818182\n",
      "k =  21  - accuracy:  0.8090909090909092\n",
      "k =  23  - accuracy:  0.8109090909090909\n",
      "k =  25  - accuracy:  0.8081818181818182\n",
      "k =  27  - accuracy:  0.808181818181818\n",
      "k =  29  - accuracy:  0.8072727272727273\n",
      "k =  31  - accuracy:  0.8036363636363637\n"
     ]
    }
   ],
   "source": [
    "k_i = [i for i in range(1,32,2)]\n",
    "k_accu = {}\n",
    "\n",
    "# cross validate result\n",
    "for k in k_i:\n",
    "    accuracy = []\n",
    "    for test_set in range(1,11):\n",
    "        train_set = [x for x in range(1,11) if x != test_set]\n",
    "        # print('Train Dataset: ', train_set,'   Test Dataset: ', test_set)\n",
    "        \n",
    "        X_train_set = np.vstack([X['data%s'%i] for i in train_set])\n",
    "        X_test_set = X['data%s'%test_set]\n",
    "        y_train_set = np.hstack([y['labels%s'%i] for i in train_set])\n",
    "        y_test_set = y['labels%s'%test_set]\n",
    "        # print('X shape: ', X_train_set.shape, X_test_set.shape,'   y shape: ', y_train_set.shape, y_test_set.shape)\n",
    "\n",
    "        knn = KNN(X_train_set, y_train_set)\n",
    "        dists = knn.dists(X_test_set.values)\n",
    "\n",
    "        y_test_pred = knn.predict_labels(dists,k)\n",
    "        num_correct = np.sum(y_test_pred == y_test_set)\n",
    "        accuracy.append(float(num_correct) / y_test_set.shape[0])\n",
    "    k_accu.setdefault(k,accuracy)\n",
    "\n",
    "# Print out the computed accuracies\n",
    "for k in k_accu:\n",
    "    k_accu[k] = np.sum(k_accu[k])/10\n",
    "    print('k = ',k , ' - accuracy: ', k_accu[k])"
   ]
  },
  {
   "cell_type": "code",
   "execution_count": 66,
   "metadata": {},
   "outputs": [
    {
     "data": {
      "image/png": "[encoded data removed]",
      "text/plain": [
       "<matplotlib.figure.Figure at 0x1127ca358>"
      ]
     },
     "metadata": {},
     "output_type": "display_data"
    }
   ],
   "source": [
    "plt.figure(figsize=(10,7))\n",
    "plt.plot(k_accu.keys(), k_accu.values())\n",
    "plt.title('Cross-validation')\n",
    "plt.xlabel('k')\n",
    "plt.ylabel('Accuracy')\n",
    "plt.show()"
   ]
  },
  {
   "cell_type": "code",
   "execution_count": null,
   "metadata": {},
   "outputs": [],
   "source": []
  }
 ],
 "metadata": {
  "kernelspec": {
   "display_name": "Python 3",
   "language": "python",
   "name": "python3"
  },
  "language_info": {
   "codemirror_mode": {
    "name": "ipython",
    "version": 3
   },
   "file_extension": ".py",
   "mimetype": "text/x-python",
   "name": "python",
   "nbconvert_exporter": "python",
   "pygments_lexer": "ipython3",
   "version": "3.6.4"
  }
 },
 "nbformat": 4,
 "nbformat_minor": 2
}
