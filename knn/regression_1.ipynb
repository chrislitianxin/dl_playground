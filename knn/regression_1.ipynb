{
 "cells": [
  {
   "cell_type": "code",
   "execution_count": 107,
   "metadata": {},
   "outputs": [],
   "source": [
    "import numpy as np \n",
    "import pandas as pd\n",
    "import glob \n",
    "import os\n",
    "import matplotlib.pyplot as plt\n",
    "np.set_printoptions(precision=2)\n",
    "\n",
    "path = 'boston-housing-dataset'\n",
    "X_test = pd.read_csv(os.path.join(path,'housing_X_test.csv'))\n",
    "X_train = pd.read_csv(os.path.join(path,'housing_X_train.csv'))\n",
    "y_train = pd.read_csv(os.path.join(path,'housing_y_train.csv'))\n",
    "y_test = pd.read_csv(os.path.join(path,'housing_y_test.csv'))"
   ]
  },
  {
   "cell_type": "code",
   "execution_count": 108,
   "metadata": {},
   "outputs": [],
   "source": [
    "# MSE\n",
    "def MSE(y,y_pred):\n",
    "    \"\"\"mean squared error\"\"\"\n",
    "    return ((y-y_pred)**2).mean(axis=0)[0]\n",
    "\n",
    "class Standardize(object):\n",
    "\n",
    "    def fit(self, X,y):\n",
    "        \"\"\"Fit standard scaler\"\"\"\n",
    "        self.x_bar = np.mean(X, axis = 0).values\n",
    "        self.std = np.std(X, axis = 0).values\n",
    "        self.y_bar = np.mean(y, axis = 0).values\n",
    "    \n",
    "    def transformX(self, X): \n",
    "        \"\"\"Standardize input\"\"\"\n",
    "        return (X.values - self.x_bar)/self.std\n",
    "    \n",
    "    def transformy(self, y):\n",
    "        \"\"\"Centering output\"\"\"\n",
    "        return y - self.y_bar\n",
    "    \n",
    "class RidgeRegression(object):\n",
    "    \n",
    "    def __init__(self, λ=0.1):\n",
    "        \"\"\"set lambda\"\"\"\n",
    "        self.λ = λ\n",
    "\n",
    "    def fit(self, X, y):\n",
    "        \"\"\"fit ridge\"\"\"\n",
    "        # solve    \n",
    "        self.w =  np.linalg.solve(X.T.dot(X) + self.λ * np.eye(X.shape[1]), X.T.dot(y))\n",
    "        #self.w = np.linalg.solve(X.T * X + self.λ * np.eye(X.shape[1]), X.T * y)\n",
    "        \n",
    "    def predict(self, X):\n",
    "        \"\"\"predict\"\"\"\n",
    "        return scaler.y_bar + X.dot(self.w)  "
   ]
  },
  {
   "cell_type": "code",
   "execution_count": 109,
   "metadata": {},
   "outputs": [
    {
     "name": "stdout",
     "output_type": "stream",
     "text": [
      "(305, 13) (305, 1)\n",
      "(199, 13) (199, 1)\n"
     ]
    }
   ],
   "source": [
    "scaler = Standardize()\n",
    "scaler.fit(X_train,y_train)\n",
    "\n",
    "X_train = pd.DataFrame(scaler.transformX(X_train))\n",
    "X_test = pd.DataFrame(scaler.transformX(X_test))\n",
    "y_train_centered = pd.DataFrame(scaler.transformy(y_train))\n",
    "y_test_centered = pd.DataFrame(scaler.transformy(y_train))\n",
    "\n",
    "\n",
    "print(X_train.shape,y_train.shape)\n",
    "print(X_test.shape,y_test.shape)\n"
   ]
  },
  {
   "cell_type": "code",
   "execution_count": 110,
   "metadata": {},
   "outputs": [
    {
     "name": "stdout",
     "output_type": "stream",
     "text": [
      "mse:  243.7025963814039\n"
     ]
    }
   ],
   "source": [
    "#test set\n",
    "rr = RidgeRegression(λ=10)\n",
    "rr.fit(X_train,y_train_centered)\n",
    "pred = rr.predict(X_test) \n",
    "print('mse: ',MSE(pred.values, y_test.values))"
   ]
  },
  {
   "cell_type": "code",
   "execution_count": 111,
   "metadata": {},
   "outputs": [],
   "source": [
    "# cross-validated init \n",
    "λ_i = [i*0.01 for i in range(10,3001)]\n",
    "λ_accu = {}\n",
    "\n",
    "# CV .....\n",
    "CV = []\n",
    "for i in range(0,10):\n",
    "    CV.append([x for x in range(i*30,i*30+30)])\n",
    "for i in range(300,305):\n",
    "    CV[9].append(i)"
   ]
  },
  {
   "cell_type": "code",
   "execution_count": 112,
   "metadata": {},
   "outputs": [],
   "source": [
    "# cross validate result\n",
    "for λ in λ_i:\n",
    "    accuracy = []\n",
    "    for val_set in range(0,10):\n",
    "        validation = X_train.index.isin(CV[val_set])\n",
    "        X = X_train.iloc[~validation]\n",
    "        y = y_train.iloc[~validation]\n",
    "        X_t = X_train.iloc[validation]\n",
    "        y_t = y_train.iloc[validation]\n",
    "        \n",
    "        rr = RidgeRegression(λ)\n",
    "        rr.fit(X,y)\n",
    "        y_pred = rr.predict(X_t)\n",
    "\n",
    "        y_err = MSE(y_pred.values,y_t.values)\n",
    "        accuracy.append(y_err)\n",
    "    λ_accu.setdefault(λ,np.mean(accuracy))\n",
    "    "
   ]
  },
  {
   "cell_type": "code",
   "execution_count": 113,
   "metadata": {},
   "outputs": [
    {
     "data": {
      "image/png": "[encoded data removed]",
      "text/plain": [
       "<matplotlib.figure.Figure at 0x1128f63c8>"
      ]
     },
     "metadata": {},
     "output_type": "display_data"
    }
   ],
   "source": [
    "plt.figure(figsize=(10,7))\n",
    "plt.plot(λ_accu.keys(), λ_accu.values())\n",
    "plt.title('Cross-validation')\n",
    "plt.xlabel('λ')\n",
    "plt.ylabel('Test Error')\n",
    "plt.show()"
   ]
  },
  {
   "cell_type": "code",
   "execution_count": 114,
   "metadata": {},
   "outputs": [
    {
     "name": "stdout",
     "output_type": "stream",
     "text": [
      "Best Lambda:  30.0\n",
      "Test Error:  150.34760918384004\n"
     ]
    }
   ],
   "source": [
    "best = min(λ_accu, key=λ_accu.get)\n",
    "print('Best Lambda: ',best)\n",
    "rr = RidgeRegression(best)\n",
    "rr.fit(X_train,y_train)\n",
    "y_pred = rr.predict(X_test)\n",
    "y_err = MSE(y_pred.values,y_test.values)\n",
    "print('Test Error: ',y_err)"
   ]
  },
  {
   "cell_type": "code",
   "execution_count": null,
   "metadata": {},
   "outputs": [],
   "source": []
  },
  {
   "cell_type": "code",
   "execution_count": null,
   "metadata": {},
   "outputs": [],
   "source": []
  }
 ],
 "metadata": {
  "kernelspec": {
   "display_name": "Python 3",
   "language": "python",
   "name": "python3"
  },
  "language_info": {
   "codemirror_mode": {
    "name": "ipython",
    "version": 3
   },
   "file_extension": ".py",
   "mimetype": "text/x-python",
   "name": "python",
   "nbconvert_exporter": "python",
   "pygments_lexer": "ipython3",
   "version": "3.6.4"
  }
 },
 "nbformat": 4,
 "nbformat_minor": 2
}
